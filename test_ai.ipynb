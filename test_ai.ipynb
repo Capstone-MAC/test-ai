{
 "cells": [
  {
   "cell_type": "code",
   "execution_count": 5,
   "metadata": {},
   "outputs": [],
   "source": [
    "import os\n",
    "import cv2\n",
    "import numpy as np\n",
    "import pandas as pd\n",
    "import matplotlib.pyplot as plt\n",
    "from typing import Literal, List"
   ]
  },
  {
   "cell_type": "code",
   "execution_count": 6,
   "metadata": {},
   "outputs": [],
   "source": [
    "class DataSetManager:\n",
    "    \"\"\"\n",
    "        A Class helps to read to load images and labels\n",
    "        \n",
    "        Args:\n",
    "            get_images(image_type, count): List[str]\n",
    "            get_labels(label_type, count): \n",
    "    \"\"\"\n",
    "    DATA_DIR = \"./archive/dataset/dataset\"\n",
    "    IMG_DIR = DATA_DIR + '/images'\n",
    "    LABEL_DIR = DATA_DIR + \"./labels\"\n",
    "    train_images: List[str] = sorted(os.listdir(IMG_DIR + \"/train\"), key = lambda x: int(x[:-4]))\n",
    "    val_images: List[str] = sorted(os.listdir(LABEL_DIR + \"/train\"), key = lambda x: int(x[:-4]))\n",
    "    train_labels: List[str] = sorted(os.listdir(IMG_DIR + \"/val\"), key = lambda x: int(x[:-4]))\n",
    "    val_labels: List[str] = sorted(os.listdir(LABEL_DIR + \"/val\"), key = lambda x: int(x[:-4]))\n",
    "    train_cnt: int\n",
    "    val_cnt: int\n",
    "    \n",
    "    def __init__(self):\n",
    "        self.train_cnt = len(self.train_images)\n",
    "        self.val_cnt = len(self.val_images)\n",
    "    \n",
    "    def get_images(self, image_type: Literal[\"train\", \"val\"] = \"train\", count: int = 0) -> List[str]:\n",
    "        data_cnt = count\n",
    "        if not data_cnt:\n",
    "            data_cnt = self.train_cnt if image_type == \"train\" else self.val_cnt\n",
    "            \n",
    "        return {\n",
    "            \"train\": self.train_images[:data_cnt],\n",
    "            \"val\": self.val_images[:data_cnt]\n",
    "        } [image_type]\n",
    "    \n",
    "    def get_labels(self, label_type: Literal[\"train\", \"val\"] = \"train\", count: int = 0) -> List[str]:\n",
    "        data_cnt = count\n",
    "        if not data_cnt:\n",
    "            data_cnt = self.train_cnt if label_type == \"train\" else self.val_cnt\n",
    "            \n",
    "        return {\n",
    "            \"train\": self.train_labels[:data_cnt],\n",
    "            \"val\": self.val_labels[:data_cnt]\n",
    "        } [label_type]"
   ]
  },
  {
   "cell_type": "code",
   "execution_count": 7,
   "metadata": {},
   "outputs": [
    {
     "data": {
      "text/plain": [
       "200"
      ]
     },
     "execution_count": 7,
     "metadata": {},
     "output_type": "execute_result"
    }
   ],
   "source": [
    "class Visualizer:\n",
    "    @staticmethod\n",
    "    def show_image(frame: np.ndarray) -> None:\n",
    "        pass\n",
    "    "
   ]
  },
  {
   "cell_type": "code",
   "execution_count": null,
   "metadata": {},
   "outputs": [],
   "source": []
  }
 ],
 "metadata": {
  "kernelspec": {
   "display_name": "Python 3",
   "language": "python",
   "name": "python3"
  },
  "language_info": {
   "codemirror_mode": {
    "name": "ipython",
    "version": 3
   },
   "file_extension": ".py",
   "mimetype": "text/x-python",
   "name": "python",
   "nbconvert_exporter": "python",
   "pygments_lexer": "ipython3",
   "version": "3.10.5"
  },
  "orig_nbformat": 4
 },
 "nbformat": 4,
 "nbformat_minor": 2
}
